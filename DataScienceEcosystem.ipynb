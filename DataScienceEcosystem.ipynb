{
 "cells": [
  {
   "cell_type": "markdown",
   "id": "6a81c300-0878-405f-afd3-888b2eeccd6f",
   "metadata": {},
   "source": [
    "#Data Science Tools and Ecosystem"
   ]
  },
  {
   "cell_type": "markdown",
   "id": "30c178d8-97d7-465b-985c-d68945addd1f",
   "metadata": {},
   "source": [
    "In this notebook,Data Science Tools and Ecosystem are summarized."
   ]
  },
  {
   "cell_type": "markdown",
   "id": "aff6ede7-f5a5-4317-967a-fce486d468e4",
   "metadata": {},
   "source": [
    "**Objectives**:\n",
    "-List popular languages for Data Science\n",
    "-List commonly used libraries in Datascience\n",
    "-List Data science tools\n",
    "-Examples of arithmetic expressions in python\n",
    "-Convert minutes to hours"
   ]
  },
  {
   "cell_type": "markdown",
   "id": "2d30e769-a6b6-49b1-87e4-5c050dc14a54",
   "metadata": {},
   "source": [
    "Some of the commonly used libraries used by Data Scientists include:\n",
    "1.Panda\n",
    "2.NumPy\n",
    "3.SciPy\n",
    "4.Matplotlib\n",
    "5.Machine learning"
   ]
  },
  {
   "cell_type": "markdown",
   "id": "6dc68cc9-5995-4654-9042-6b5fef339dc3",
   "metadata": {},
   "source": [
    "Data Science Tools\n",
    "-------------------\n",
    "1.Apache Spark\n",
    "2.TensorFlow\n",
    "3.Scikit-learn"
   ]
  },
  {
   "cell_type": "markdown",
   "id": "8ceff368-3cb0-48b7-9d95-8d82dcf6be9e",
   "metadata": {},
   "source": [
    "### Below are the few examples of evaluating arithmetic expressions in Python\n",
    "4+4\n",
    "5*5"
   ]
  },
  {
   "cell_type": "code",
   "execution_count": 3,
   "id": "64a68e34-ad4d-4787-b73c-dc1de7f47091",
   "metadata": {},
   "outputs": [
    {
     "data": {
      "text/plain": [
       "17"
      ]
     },
     "execution_count": 3,
     "metadata": {},
     "output_type": "execute_result"
    }
   ],
   "source": [
    "#This is a simple arithmetic expression to multiply then add integers\n",
    "(3*4)+5"
   ]
  },
  {
   "cell_type": "code",
   "execution_count": 7,
   "id": "92a73626-6bf5-45d8-ab73-6bb06000aba7",
   "metadata": {},
   "outputs": [
    {
     "data": {
      "text/plain": [
       "3.3333333333333335"
      ]
     },
     "execution_count": 7,
     "metadata": {},
     "output_type": "execute_result"
    }
   ],
   "source": [
    "# This will convert 200 minutes to hours by dividing by 60\n",
    "200/60"
   ]
  },
  {
   "cell_type": "markdown",
   "id": "dc2a2a13-b1bf-4be5-869c-47b504b5e7a4",
   "metadata": {},
   "source": [https://github.com/new/import
    "## Author\n",
    "Immaculate Weddy Kinoti"
   ]
  },
  {
   "cell_type": "code",
   "execution_count": null,
   "id": "2034edda-9ab6-4015-a8d3-f15d38fc0b06",
   "metadata": {},
   "outputs": [],
   "source": []
  }
 ],
 "metadata": {
  "kernelspec": {
   "display_name": "Python 3 (ipykernel)",
   "language": "python",
   "name": "python3"
  },
  "language_info": {
   "codemirror_mode": {
    "name": "ipython",
    "version": 3
   },
   "file_extension": ".py",
   "mimetype": "text/x-python",
   "name": "python",
   "nbconvert_exporter": "python",
   "pygments_lexer": "ipython3",
   "version": "3.11.7"
  }
 },
 "nbformat": 4,
 "nbformat_minor": 5
}
